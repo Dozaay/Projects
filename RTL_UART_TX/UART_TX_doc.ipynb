{
 "cells": [
  {
   "cell_type": "code",
   "execution_count": null,
   "id": "04d105ca-d43a-48e2-bbf3-6f763cd84176",
   "metadata": {},
   "outputs": [],
   "source": [
    "# Hardware UART Transmitter using Verilog\n",
    "//fix Exec sum and move to README.md\n",
    "## **Exectutive Summary**\n",
    "The goal of this document is to design pipeline UART transmitter using verilog. where I will write self checking testbenches in verilog and python based \n",
    "protocal checkers to confirm accuracy of the UART transmitter. After the prev is done sim and compile files to generate waveform on modelsim and using \n",
    "GTKWave to view Waveform."
   ]
  },
  {
   "cell_type": "code",
   "execution_count": null,
   "id": "de0fb3e0-d8b1-4eff-82d9-40fbaef24d55",
   "metadata": {},
   "outputs": [],
   "source": [
    "# Hardware UART Transmitter using Verilog\n",
    "## ****"
   ]
  },
  {
   "cell_type": "code",
   "execution_count": null,
   "id": "f9b00631-44f6-4316-ae9a-0d5601d9b5fc",
   "metadata": {},
   "outputs": [],
   "source": []
  }
 ],
 "metadata": {
  "kernelspec": {
   "display_name": "Python 3 (ipykernel)",
   "language": "python",
   "name": "python3"
  },
  "language_info": {
   "codemirror_mode": {
    "name": "ipython",
    "version": 3
   },
   "file_extension": ".py",
   "mimetype": "text/x-python",
   "name": "python",
   "nbconvert_exporter": "python",
   "pygments_lexer": "ipython3",
   "version": "3.13.5"
  }
 },
 "nbformat": 4,
 "nbformat_minor": 5
}
